{
 "cells": [
  {
   "cell_type": "code",
   "execution_count": null,
   "metadata": {},
   "outputs": [],
   "source": [
    "import os\n",
    "import keras\n",
    "import numpy as np\n",
    "from PIL import Image\n",
    "import cv2  \n",
    "import tensorflow as tf\n",
    "#import numpy \n",
    "import matplotlib.pyplot as plt\n",
    "from keras.models import Sequential\n",
    "from keras.models import load_model \n",
    "\n",
    "def apply_color_mask(hsv,img,low,high):\n",
    "    # Apply color mask to image\n",
    "    mask = cv2.inRange(hsv, low, high)\n",
    "    res = cv2.bitwise_and(img,img, mask= mask)\n",
    "    return res\n",
    "os.environ[\"CUDA_VISIBLE_DEVICES\"] = \"1\"\n",
    "config = tf.compat.v1.ConfigProto()\n",
    "config.gpu_options.allow_growth = True\n",
    "session = tf.compat.v1.Session(config=config)\n",
    "from keras.models import Sequential\n",
    "from keras.layers import Dense, SpatialDropout2D, Dropout, Flatten\n",
    "from keras.layers import Conv2D, MaxPooling2D, Conv2DTranspose\n",
    "from keras.optimizers import RMSprop, SGD\n",
    "from keras.layers.normalization import BatchNormalization"
   ]
  },
  {
   "cell_type": "code",
   "execution_count": null,
   "metadata": {},
   "outputs": [],
   "source": [
    "#所有有病葉片\n",
    "base_path = r'diease'#這裡要改\n",
    "img_0=[]\n",
    "for root, dirs, files in os.walk(base_path):\n",
    "    for file in files:\n",
    "        if file.endswith(\".JPG\"):\n",
    "            filename = os.path.join(root, file)\n",
    "            file_size = os.path.getsize(filename)\n",
    "            category_name = os.path.basename(root)\n",
    "            if file_size >= 2048:\n",
    "                #print(filename)\n",
    "                im = cv2.imread(filename)\n",
    "                #im = cv2.imread(r'diease/c47ccf21-5249-4a95-8d33-0d640e3529f7___RS_L.Scorch 0158.JPG')\n",
    "                im=cv2.resize(im,(128,128), interpolation = cv2.INTER_CUBIC)\n",
    "                img_0.append(im)\n",
    "img_0_array=np.asarray(img_0)\n",
    "img_0_label=np.ones(img_0_array.shape[0])*0 "
   ]
  },
  {
   "cell_type": "code",
   "execution_count": null,
   "metadata": {},
   "outputs": [],
   "source": [
    "model_frcnn = Sequential()\n",
    "  \n",
    "\n",
    " #First Convolution and Pooling layer\n",
    "model_frcnn.add(Conv2D(96,(11,11),strides=(2,2),input_shape=(128,128,3),padding='same',activation='relu'))\n",
    "#model_frcnn.add(MaxPooling2D(pool_size=(3,3),strides=(2,2)))\n",
    "  \n",
    "\n",
    "  \n",
    "    #Second Convolution and Pooling layer\n",
    "model_frcnn.add(Conv2D(256,(5,5),strides=(1,1),padding='same',activation='relu'))\n",
    "#model_frcnn.add(MaxPooling2D(pool_size=(3,3),strides=(2,2)))\n",
    "    \n",
    "\n",
    "    #Three Convolution layer and Pooling Layer\n",
    "model_frcnn.add(Conv2D(384,(3,3),strides=(1,1),padding='same',activation='relu'))\n",
    "model_frcnn.add(Conv2D(384,(3,3),strides=(1,1),padding='same',activation='relu'))\n",
    "model_frcnn.add(Conv2D(256,(3,3),strides=(1,1),padding='same',activation='relu'))\n",
    "#model_frcnn.add(MaxPooling2D(pool_size=(2,2),strides=None))\n",
    "    \n",
    "\n",
    "    #Fully connection layer\n",
    "#model_frcnn.add(Flatten())\n",
    "#model_frcnn.add(Dense(4096,activation='relu'))\n",
    "#model_frcnn.add(Dropout(0.5))\n",
    "#model_frcnn.add(Dense(4096,activation='relu'))\n",
    "#model_frcnn.add(Dropout(0.5))\n",
    "#model_frcnn.add(Dense(1000,activation='relu'))\n",
    "#model_frcnn.add(Dropout(0.5))\n",
    "   \n",
    "    #Classfication layer\n",
    "#model_frcnn.add(Dense(2,activation='softmax'))\n",
    "model_frcnn.summary()\n",
    "optimizer = RMSprop(lr=1e-4)\n",
    "objective = 'binary_crossentropy'\n",
    "\n",
    "model_frcnn.compile(loss=objective, optimizer=optimizer, metrics=['accuracy'])"
   ]
  },
  {
   "cell_type": "code",
   "execution_count": null,
   "metadata": {},
   "outputs": [],
   "source": []
  }
 ],
 "metadata": {
  "kernelspec": {
   "display_name": "Python (my-tf-venv)",
   "language": "python",
   "name": "myenv"
  },
  "language_info": {
   "codemirror_mode": {
    "name": "ipython",
    "version": 3
   },
   "file_extension": ".py",
   "mimetype": "text/x-python",
   "name": "python",
   "nbconvert_exporter": "python",
   "pygments_lexer": "ipython3",
   "version": "3.6.9"
  }
 },
 "nbformat": 4,
 "nbformat_minor": 4
}
